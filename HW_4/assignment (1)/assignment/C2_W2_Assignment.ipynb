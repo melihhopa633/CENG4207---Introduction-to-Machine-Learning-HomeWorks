{
 "cells": [
  {
   "cell_type": "markdown",
   "metadata": {},
   "source": [
    "# Practice Lab: Neural Networks for Handwritten Digit Recognition, Multiclass \n",
    "\n",
    "In this exercise, you will use a neural network to recognize the hand-written digits 0-9.\n",
    "\n",
    "\n",
    "# Outline\n",
    "- [ 1 - Packages ](#1)\n",
    "- [ 2 - ReLU Activation](#2)\n",
    "- [ 3 - Softmax Function](#3)\n",
    "  - [ Exercise 1](#ex01)\n",
    "- [ 4 - Neural Networks](#4)\n",
    "  - [ 4.1 Problem Statement](#4.1)\n",
    "  - [ 4.2 Dataset](#4.2)\n",
    "  - [ 4.3 Model representation](#4.3)\n",
    "  - [ 4.4 Tensorflow Model Implementation](#4.4)\n",
    "  - [ 4.5 Softmax placement](#4.5)\n",
    "    - [ Exercise 2](#ex02)\n"
   ]
  },
  {
   "cell_type": "markdown",
   "metadata": {},
   "source": [
    "_**NOTE:** To prevent errors from the autograder, you are not allowed to edit or delete non-graded cells in this notebook . Please also refrain from adding any new cells. \n",
    "**Once you have passed this assignment** and want to experiment with any of the non-graded code, you may follow the instructions at the bottom of this notebook._"
   ]
  },
  {
   "cell_type": "markdown",
   "metadata": {
    "tags": []
   },
   "source": [
    "<a name=\"1\"></a>\n",
    "## 1 - Packages \n",
    "\n",
    "First, let's run the cell below to import all the packages that you will need during this assignment.\n",
    "- [numpy](https://numpy.org/) is the fundamental package for scientific computing with Python.\n",
    "- [matplotlib](http://matplotlib.org) is a popular library to plot graphs in Python.\n",
    "- [tensorflow](https://www.tensorflow.org/) a popular platform for machine learning."
   ]
  },
  {
   "cell_type": "code",
   "metadata": {
    "deletable": false,
    "editable": false,
    "ExecuteTime": {
     "end_time": "2025-01-03T17:02:38.296930Z",
     "start_time": "2025-01-03T17:02:35.391035Z"
    }
   },
   "source": [
    "import numpy as np\n",
    "import tensorflow as tf\n",
    "from tensorflow.keras.models import Sequential\n",
    "from tensorflow.keras.layers import Dense\n",
    "from tensorflow.keras.activations import linear, relu, sigmoid\n",
    "%matplotlib widget\n",
    "import matplotlib.pyplot as plt\n",
    "plt.style.use('./deeplearning.mplstyle')\n",
    "\n",
    "import logging\n",
    "logging.getLogger(\"tensorflow\").setLevel(logging.ERROR)\n",
    "tf.autograph.set_verbosity(0)\n",
    "\n",
    "from public_tests import * \n",
    "\n",
    "from autils import *\n",
    "from lab_utils_softmax import plt_softmax\n",
    "np.set_printoptions(precision=2)"
   ],
   "outputs": [
    {
     "name": "stderr",
     "output_type": "stream",
     "text": [
      "2025-01-03 20:02:35.843751: E external/local_xla/xla/stream_executor/cuda/cuda_fft.cc:477] Unable to register cuFFT factory: Attempting to register factory for plugin cuFFT when one has already been registered\n",
      "WARNING: All log messages before absl::InitializeLog() is called are written to STDERR\n",
      "E0000 00:00:1735923755.895305    3633 cuda_dnn.cc:8310] Unable to register cuDNN factory: Attempting to register factory for plugin cuDNN when one has already been registered\n",
      "E0000 00:00:1735923755.905148    3633 cuda_blas.cc:1418] Unable to register cuBLAS factory: Attempting to register factory for plugin cuBLAS when one has already been registered\n",
      "2025-01-03 20:02:35.970038: I tensorflow/core/platform/cpu_feature_guard.cc:210] This TensorFlow binary is optimized to use available CPU instructions in performance-critical operations.\n",
      "To enable the following instructions: AVX2 FMA, in other operations, rebuild TensorFlow with the appropriate compiler flags.\n"
     ]
    }
   ],
   "execution_count": 1
  },
  {
   "cell_type": "markdown",
   "metadata": {},
   "source": [
    "<a name=\"2\"></a>\n",
    "## 2 - ReLU Activation\n",
    "This week, a new activation was introduced, the Rectified Linear Unit (ReLU). \n",
    "$$ a = max(0,z) \\quad\\quad\\text {# ReLU function} $$"
   ]
  },
  {
   "cell_type": "code",
   "metadata": {
    "deletable": false,
    "editable": false,
    "ExecuteTime": {
     "end_time": "2025-01-03T16:59:27.701499Z",
     "start_time": "2025-01-03T16:59:27.560136Z"
    }
   },
   "source": [
    "plt_act_trio()"
   ],
   "outputs": [
    {
     "name": "stderr",
     "output_type": "stream",
     "text": [
      "2025-01-03 19:59:27.591915: W tensorflow/core/framework/op_kernel.cc:1829] UNKNOWN: JIT compilation failed.\n",
      "2025-01-03 19:59:27.591969: I tensorflow/core/framework/local_rendezvous.cc:405] Local rendezvous is aborting with status: UNKNOWN: JIT compilation failed.\n"
     ]
    },
    {
     "ename": "UnknownError",
     "evalue": "{{function_node __wrapped__Sigmoid_device_/job:localhost/replica:0/task:0/device:GPU:0}} JIT compilation failed. [Op:Sigmoid] name: ",
     "output_type": "error",
     "traceback": [
      "\u001B[0;31m---------------------------------------------------------------------------\u001B[0m",
      "\u001B[0;31mUnknownError\u001B[0m                              Traceback (most recent call last)",
      "Cell \u001B[0;32mIn[5], line 1\u001B[0m\n\u001B[0;32m----> 1\u001B[0m \u001B[43mplt_act_trio\u001B[49m\u001B[43m(\u001B[49m\u001B[43m)\u001B[49m\n",
      "File \u001B[0;32m~/Documents/GitHub/CENG4207---Introduction-to-Machine-Learning-HomeWorks/HW_4/assignment (1)/assignment/autils.py:27\u001B[0m, in \u001B[0;36mplt_act_trio\u001B[0;34m()\u001B[0m\n\u001B[1;32m     25\u001B[0m ax[\u001B[38;5;241m0\u001B[39m]\u001B[38;5;241m.\u001B[39maxhline(\u001B[38;5;241m0\u001B[39m, lw\u001B[38;5;241m=\u001B[39m\u001B[38;5;241m0.3\u001B[39m, c\u001B[38;5;241m=\u001B[39m\u001B[38;5;124m\"\u001B[39m\u001B[38;5;124mblack\u001B[39m\u001B[38;5;124m\"\u001B[39m)\n\u001B[1;32m     26\u001B[0m ax[\u001B[38;5;241m0\u001B[39m]\u001B[38;5;241m.\u001B[39mset_title(\u001B[38;5;124m\"\u001B[39m\u001B[38;5;124mLinear\u001B[39m\u001B[38;5;124m\"\u001B[39m)\n\u001B[0;32m---> 27\u001B[0m ax[\u001B[38;5;241m1\u001B[39m]\u001B[38;5;241m.\u001B[39mplot(X,\u001B[43mtf\u001B[49m\u001B[38;5;241;43m.\u001B[39;49m\u001B[43mkeras\u001B[49m\u001B[38;5;241;43m.\u001B[39;49m\u001B[43mactivations\u001B[49m\u001B[38;5;241;43m.\u001B[39;49m\u001B[43msigmoid\u001B[49m\u001B[43m(\u001B[49m\u001B[43mX\u001B[49m\u001B[43m)\u001B[49m)\n\u001B[1;32m     28\u001B[0m ax[\u001B[38;5;241m1\u001B[39m]\u001B[38;5;241m.\u001B[39maxvline(\u001B[38;5;241m0\u001B[39m, lw\u001B[38;5;241m=\u001B[39m\u001B[38;5;241m0.3\u001B[39m, c\u001B[38;5;241m=\u001B[39m\u001B[38;5;124m\"\u001B[39m\u001B[38;5;124mblack\u001B[39m\u001B[38;5;124m\"\u001B[39m)\n\u001B[1;32m     29\u001B[0m ax[\u001B[38;5;241m1\u001B[39m]\u001B[38;5;241m.\u001B[39maxhline(\u001B[38;5;241m0\u001B[39m, lw\u001B[38;5;241m=\u001B[39m\u001B[38;5;241m0.3\u001B[39m, c\u001B[38;5;241m=\u001B[39m\u001B[38;5;124m\"\u001B[39m\u001B[38;5;124mblack\u001B[39m\u001B[38;5;124m\"\u001B[39m)\n",
      "File \u001B[0;32m~/Documents/GitHub/CENG4207---Introduction-to-Machine-Learning-HomeWorks/HW_4/assignment (1)/assignment/venv/lib/python3.12/site-packages/keras/src/activations/activations.py:498\u001B[0m, in \u001B[0;36msigmoid\u001B[0;34m(x)\u001B[0m\n\u001B[1;32m    481\u001B[0m \u001B[38;5;129m@keras_export\u001B[39m(\u001B[38;5;124m\"\u001B[39m\u001B[38;5;124mkeras.activations.sigmoid\u001B[39m\u001B[38;5;124m\"\u001B[39m)\n\u001B[1;32m    482\u001B[0m \u001B[38;5;28;01mdef\u001B[39;00m \u001B[38;5;21msigmoid\u001B[39m(x):\n\u001B[1;32m    483\u001B[0m \u001B[38;5;250m    \u001B[39m\u001B[38;5;124;03m\"\"\"Sigmoid activation function.\u001B[39;00m\n\u001B[1;32m    484\u001B[0m \n\u001B[1;32m    485\u001B[0m \u001B[38;5;124;03m    It is defined as: `sigmoid(x) = 1 / (1 + exp(-x))`.\u001B[39;00m\n\u001B[0;32m   (...)\u001B[0m\n\u001B[1;32m    496\u001B[0m \u001B[38;5;124;03m        x: Input tensor.\u001B[39;00m\n\u001B[1;32m    497\u001B[0m \u001B[38;5;124;03m    \"\"\"\u001B[39;00m\n\u001B[0;32m--> 498\u001B[0m     output \u001B[38;5;241m=\u001B[39m \u001B[43mops\u001B[49m\u001B[38;5;241;43m.\u001B[39;49m\u001B[43msigmoid\u001B[49m\u001B[43m(\u001B[49m\u001B[43mx\u001B[49m\u001B[43m)\u001B[49m\n\u001B[1;32m    499\u001B[0m     \u001B[38;5;66;03m# Cache the logits to use for crossentropy loss.\u001B[39;00m\n\u001B[1;32m    500\u001B[0m     \u001B[38;5;28;01mtry\u001B[39;00m:\n",
      "File \u001B[0;32m~/Documents/GitHub/CENG4207---Introduction-to-Machine-Learning-HomeWorks/HW_4/assignment (1)/assignment/venv/lib/python3.12/site-packages/keras/src/ops/nn.py:109\u001B[0m, in \u001B[0;36msigmoid\u001B[0;34m(x)\u001B[0m\n\u001B[1;32m    107\u001B[0m \u001B[38;5;28;01mif\u001B[39;00m any_symbolic_tensors((x,)):\n\u001B[1;32m    108\u001B[0m     \u001B[38;5;28;01mreturn\u001B[39;00m Sigmoid()\u001B[38;5;241m.\u001B[39msymbolic_call(x)\n\u001B[0;32m--> 109\u001B[0m \u001B[38;5;28;01mreturn\u001B[39;00m \u001B[43mbackend\u001B[49m\u001B[38;5;241;43m.\u001B[39;49m\u001B[43mnn\u001B[49m\u001B[38;5;241;43m.\u001B[39;49m\u001B[43msigmoid\u001B[49m\u001B[43m(\u001B[49m\u001B[43mx\u001B[49m\u001B[43m)\u001B[49m\n",
      "File \u001B[0;32m~/Documents/GitHub/CENG4207---Introduction-to-Machine-Learning-HomeWorks/HW_4/assignment (1)/assignment/venv/lib/python3.12/site-packages/keras/src/backend/tensorflow/nn.py:24\u001B[0m, in \u001B[0;36msigmoid\u001B[0;34m(x)\u001B[0m\n\u001B[1;32m     22\u001B[0m \u001B[38;5;28;01mdef\u001B[39;00m \u001B[38;5;21msigmoid\u001B[39m(x):\n\u001B[1;32m     23\u001B[0m     logits \u001B[38;5;241m=\u001B[39m x\n\u001B[0;32m---> 24\u001B[0m     output \u001B[38;5;241m=\u001B[39m \u001B[43mtf\u001B[49m\u001B[38;5;241;43m.\u001B[39;49m\u001B[43mnn\u001B[49m\u001B[38;5;241;43m.\u001B[39;49m\u001B[43msigmoid\u001B[49m\u001B[43m(\u001B[49m\u001B[43mx\u001B[49m\u001B[43m)\u001B[49m\n\u001B[1;32m     25\u001B[0m     output\u001B[38;5;241m.\u001B[39m_keras_logits \u001B[38;5;241m=\u001B[39m logits\n\u001B[1;32m     26\u001B[0m     \u001B[38;5;28;01mreturn\u001B[39;00m output\n",
      "File \u001B[0;32m~/Documents/GitHub/CENG4207---Introduction-to-Machine-Learning-HomeWorks/HW_4/assignment (1)/assignment/venv/lib/python3.12/site-packages/tensorflow/python/ops/weak_tensor_ops.py:88\u001B[0m, in \u001B[0;36mweak_tensor_unary_op_wrapper.<locals>.wrapper\u001B[0;34m(*args, **kwargs)\u001B[0m\n\u001B[1;32m     86\u001B[0m \u001B[38;5;28;01mdef\u001B[39;00m \u001B[38;5;21mwrapper\u001B[39m(\u001B[38;5;241m*\u001B[39margs, \u001B[38;5;241m*\u001B[39m\u001B[38;5;241m*\u001B[39mkwargs):\n\u001B[1;32m     87\u001B[0m   \u001B[38;5;28;01mif\u001B[39;00m \u001B[38;5;129;01mnot\u001B[39;00m ops\u001B[38;5;241m.\u001B[39mis_auto_dtype_conversion_enabled():\n\u001B[0;32m---> 88\u001B[0m     \u001B[38;5;28;01mreturn\u001B[39;00m \u001B[43mop\u001B[49m\u001B[43m(\u001B[49m\u001B[38;5;241;43m*\u001B[39;49m\u001B[43margs\u001B[49m\u001B[43m,\u001B[49m\u001B[43m \u001B[49m\u001B[38;5;241;43m*\u001B[39;49m\u001B[38;5;241;43m*\u001B[39;49m\u001B[43mkwargs\u001B[49m\u001B[43m)\u001B[49m\n\u001B[1;32m     89\u001B[0m   bound_arguments \u001B[38;5;241m=\u001B[39m signature\u001B[38;5;241m.\u001B[39mbind(\u001B[38;5;241m*\u001B[39margs, \u001B[38;5;241m*\u001B[39m\u001B[38;5;241m*\u001B[39mkwargs)\n\u001B[1;32m     90\u001B[0m   bound_arguments\u001B[38;5;241m.\u001B[39mapply_defaults()\n",
      "File \u001B[0;32m~/Documents/GitHub/CENG4207---Introduction-to-Machine-Learning-HomeWorks/HW_4/assignment (1)/assignment/venv/lib/python3.12/site-packages/tensorflow/python/util/traceback_utils.py:153\u001B[0m, in \u001B[0;36mfilter_traceback.<locals>.error_handler\u001B[0;34m(*args, **kwargs)\u001B[0m\n\u001B[1;32m    151\u001B[0m \u001B[38;5;28;01mexcept\u001B[39;00m \u001B[38;5;167;01mException\u001B[39;00m \u001B[38;5;28;01mas\u001B[39;00m e:\n\u001B[1;32m    152\u001B[0m   filtered_tb \u001B[38;5;241m=\u001B[39m _process_traceback_frames(e\u001B[38;5;241m.\u001B[39m__traceback__)\n\u001B[0;32m--> 153\u001B[0m   \u001B[38;5;28;01mraise\u001B[39;00m e\u001B[38;5;241m.\u001B[39mwith_traceback(filtered_tb) \u001B[38;5;28;01mfrom\u001B[39;00m \u001B[38;5;28;01mNone\u001B[39;00m\n\u001B[1;32m    154\u001B[0m \u001B[38;5;28;01mfinally\u001B[39;00m:\n\u001B[1;32m    155\u001B[0m   \u001B[38;5;28;01mdel\u001B[39;00m filtered_tb\n",
      "File \u001B[0;32m~/Documents/GitHub/CENG4207---Introduction-to-Machine-Learning-HomeWorks/HW_4/assignment (1)/assignment/venv/lib/python3.12/site-packages/tensorflow/python/framework/ops.py:6002\u001B[0m, in \u001B[0;36mraise_from_not_ok_status\u001B[0;34m(e, name)\u001B[0m\n\u001B[1;32m   6000\u001B[0m \u001B[38;5;28;01mdef\u001B[39;00m \u001B[38;5;21mraise_from_not_ok_status\u001B[39m(e, name) \u001B[38;5;241m-\u001B[39m\u001B[38;5;241m>\u001B[39m NoReturn:\n\u001B[1;32m   6001\u001B[0m   e\u001B[38;5;241m.\u001B[39mmessage \u001B[38;5;241m+\u001B[39m\u001B[38;5;241m=\u001B[39m (\u001B[38;5;124m\"\u001B[39m\u001B[38;5;124m name: \u001B[39m\u001B[38;5;124m\"\u001B[39m \u001B[38;5;241m+\u001B[39m \u001B[38;5;28mstr\u001B[39m(name \u001B[38;5;28;01mif\u001B[39;00m name \u001B[38;5;129;01mis\u001B[39;00m \u001B[38;5;129;01mnot\u001B[39;00m \u001B[38;5;28;01mNone\u001B[39;00m \u001B[38;5;28;01melse\u001B[39;00m \u001B[38;5;124m\"\u001B[39m\u001B[38;5;124m\"\u001B[39m))\n\u001B[0;32m-> 6002\u001B[0m   \u001B[38;5;28;01mraise\u001B[39;00m core\u001B[38;5;241m.\u001B[39m_status_to_exception(e) \u001B[38;5;28;01mfrom\u001B[39;00m \u001B[38;5;28;01mNone\u001B[39;00m\n",
      "\u001B[0;31mUnknownError\u001B[0m: {{function_node __wrapped__Sigmoid_device_/job:localhost/replica:0/task:0/device:GPU:0}} JIT compilation failed. [Op:Sigmoid] name: "
     ]
    },
    {
     "data": {
      "text/plain": [
       "Canvas(footer_visible=False, header_visible=False, toolbar=Toolbar(toolitems=[('Home', 'Reset original view', …"
      ],
      "image/png": "[encoded data removed]",
      "text/html": [
       "\n",
       "            <div style=\"display: inline-block;\">\n",
       "                <div class=\"jupyter-widgets widget-label\" style=\"text-align: center;\">\n",
       "                    Figure\n",
       "                </div>\n",
       "                <img src='data:image/png;base64,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' width=600.0/>\n",
       "            </div>\n",
       "        "
      ],
      "application/vnd.jupyter.widget-view+json": {
       "version_major": 2,
       "version_minor": 0,
       "model_id": "b5a6e6be5ccc47139891487dc724e52b"
      }
     },
     "metadata": {},
     "output_type": "display_data"
    }
   ],
   "execution_count": 5
  },
  {
   "cell_type": "markdown",
   "metadata": {},
   "source": [
    "<img align=\"right\" src=\"./images/C2_W2_ReLu.png\"     style=\" width:380px; padding: 10px 20px; \" >\n",
    "The example from the lecture on the right shows an application of the ReLU. In this example, the derived \"awareness\" feature is not binary but has a continuous range of values. The sigmoid is best for on/off or binary situations. The ReLU provides a continuous linear relationship. Additionally it has an 'off' range where the output is zero.     \n",
    "The \"off\" feature makes the ReLU a Non-Linear activation. Why is this needed? This enables multiple units to contribute to to the resulting function without interfering. This is examined more in the supporting optional lab. "
   ]
  },
  {
   "cell_type": "markdown",
   "metadata": {
    "tags": []
   },
   "source": [
    "<a name=\"3\"></a>\n",
    "## 3 - Softmax Function\n",
    "A multiclass neural network generates N outputs. One output is selected as the predicted answer. In the output layer, a vector $\\mathbf{z}$ is generated by a linear function which is fed into a softmax function. The softmax function converts $\\mathbf{z}$  into a probability distribution as described below. After applying softmax, each output will be between 0 and 1 and the outputs will sum to 1. They can be interpreted as probabilities. The larger inputs to the softmax will correspond to larger output probabilities.\n",
    "<center>  <img  src=\"./images/C2_W2_NNSoftmax.PNG\" width=\"600\" />  "
   ]
  },
  {
   "cell_type": "markdown",
   "metadata": {},
   "source": [
    "The softmax function can be written:\n",
    "$$a_j = \\frac{e^{z_j}}{ \\sum_{k=0}^{N-1}{e^{z_k} }} \\tag{1}$$\n",
    "\n",
    "Where $z = \\mathbf{w} \\cdot \\mathbf{x} + b$ and N is the number of feature/categories in the output layer.  "
   ]
  },
  {
   "cell_type": "markdown",
   "metadata": {},
   "source": [
    "<a name=\"ex01\"></a>\n",
    "### Exercise 1\n",
    "Let's create a NumPy implementation:"
   ]
  },
  {
   "cell_type": "code",
   "execution_count": 5,
   "metadata": {
    "deletable": false
   },
   "outputs": [],
   "source": [
    "# UNQ_C1\n",
    "# GRADED CELL: my_softmax\n",
    "\n",
    "def my_softmax(z):  \n",
    "    \"\"\" Softmax converts a vector of values to a probability distribution.\n",
    "    Args:\n",
    "      z (ndarray (N,))  : input data, N features\n",
    "    Returns:\n",
    "      a (ndarray (N,))  : softmax of z\n",
    "    \"\"\"    \n",
    "    ### START CODE HERE ### \n",
    "    \n",
    "    ### END CODE HERE ### \n",
    "    return a"
   ]
  },
  {
   "cell_type": "code",
   "execution_count": 6,
   "metadata": {
    "deletable": false,
    "editable": false
   },
   "outputs": [
    {
     "name": "stdout",
     "output_type": "stream",
     "text": [
      "my_softmax(z):         [0.03205860328008499, 0.08714431874203257, 0.23688281808991013, 0.6439142598879722]\n",
      "tensorflow softmax(z): [0.03 0.09 0.24 0.64]\n",
      "\u001B[92m All tests passed.\n"
     ]
    }
   ],
   "source": [
    "z = np.array([1., 2., 3., 4.])\n",
    "a = my_softmax(z)\n",
    "atf = tf.nn.softmax(z)\n",
    "print(f\"my_softmax(z):         {a}\")\n",
    "print(f\"tensorflow softmax(z): {atf}\")\n",
    "\n",
    "# BEGIN UNIT TEST  \n",
    "test_my_softmax(my_softmax)\n",
    "# END UNIT TEST  "
   ]
  },
  {
   "cell_type": "markdown",
   "metadata": {},
   "source": [
    "<details>\n",
    "  <summary><font size=\"3\" color=\"darkgreen\"><b>Click for hints</b></font></summary>\n",
    "    One implementation uses for loop to first build the denominator and then a second loop to calculate each output.\n",
    "    \n",
    "```python\n",
    "def my_softmax(z):  \n",
    "    N = len(z)\n",
    "    a =                     # initialize a to zeros \n",
    "    ez_sum =                # initialize sum to zero\n",
    "    for k in range(N):      # loop over number of outputs             \n",
    "        ez_sum +=           # sum exp(z[k]) to build the shared denominator      \n",
    "    for j in range(N):      # loop over number of outputs again                \n",
    "        a[j] =              # divide each the exp of each output by the denominator   \n",
    "    return(a)\n",
    "```\n",
    "<details>\n",
    "  <summary><font size=\"3\" color=\"darkgreen\"><b>Click for code</b></font></summary>\n",
    "   \n",
    "```python\n",
    "def my_softmax(z):  \n",
    "    N = len(z)\n",
    "    a = np.zeros(N)\n",
    "    ez_sum = 0\n",
    "    for k in range(N):                \n",
    "        ez_sum += np.exp(z[k])       \n",
    "    for j in range(N):                \n",
    "        a[j] = np.exp(z[j])/ez_sum   \n",
    "    return(a)\n",
    "\n",
    "Or, a vector implementation:\n",
    "\n",
    "def my_softmax(z):  \n",
    "    ez = np.exp(z)              \n",
    "    a = ez/np.sum(ez)           \n",
    "    return(a)\n",
    "\n",
    "```\n"
   ]
  },
  {
   "cell_type": "markdown",
   "metadata": {},
   "source": [
    "Below, vary the values of the `z` inputs. Note in particular how the exponential in the numerator magnifies small differences in the values. Note as well that the output values sum to one."
   ]
  },
  {
   "cell_type": "code",
   "execution_count": 7,
   "metadata": {
    "deletable": false,
    "editable": false
   },
   "outputs": [
    {
     "data": {
      "application/vnd.jupyter.widget-view+json": {
       "model_id": "99b45ece8d6c452bbad09baced7a6a45",
       "version_major": 2,
       "version_minor": 0
      },
      "text/plain": [
       "Canvas(toolbar=Toolbar(toolitems=[('Home', 'Reset original view', 'home', 'home'), ('Back', 'Back to previous …"
      ]
     },
     "metadata": {},
     "output_type": "display_data"
    }
   ],
   "source": [
    "plt.close(\"all\")\n",
    "plt_softmax(my_softmax)"
   ]
  },
  {
   "cell_type": "markdown",
   "metadata": {
    "tags": []
   },
   "source": [
    "<a name=\"4\"></a>\n",
    "## 4 - Neural Networks\n",
    "\n",
    "In last weeks assignment, you implemented a neural network to do binary classification. This week you will extend that to multiclass classification. This will utilize the softmax activation.\n",
    "\n",
    "\n",
    "<a name=\"4.1\"></a>\n",
    "### 4.1 Problem Statement\n",
    "\n",
    "In this exercise, you will use a neural network to recognize ten handwritten digits, 0-9. This is a multiclass classification task where one of n choices is selected. Automated handwritten digit recognition is widely used today - from recognizing zip codes (postal codes) on mail envelopes to recognizing amounts written on bank checks. \n",
    "\n",
    "\n",
    "<a name=\"4.2\"></a>\n",
    "### 4.2 Dataset\n",
    "\n",
    "You will start by loading the dataset for this task. \n",
    "- The `load_data()` function shown below loads the data into variables `X` and `y`\n",
    "\n",
    "\n",
    "- The data set contains 5000 training examples of handwritten digits $^1$.  \n",
    "\n",
    "    - Each training example is a 20-pixel x 20-pixel grayscale image of the digit. \n",
    "        - Each pixel is represented by a floating-point number indicating the grayscale intensity at that location. \n",
    "        - The 20 by 20 grid of pixels is “unrolled” into a 400-dimensional vector. \n",
    "        - Each training examples becomes a single row in our data matrix `X`. \n",
    "        - This gives us a 5000 x 400 matrix `X` where every row is a training example of a handwritten digit image.\n",
    "\n",
    "$$X = \n",
    "\\left(\\begin{array}{cc} \n",
    "--- (x^{(1)}) --- \\\\\n",
    "--- (x^{(2)}) --- \\\\\n",
    "\\vdots \\\\ \n",
    "--- (x^{(m)}) --- \n",
    "\\end{array}\\right)$$ \n",
    "\n",
    "- The second part of the training set is a 5000 x 1 dimensional vector `y` that contains labels for the training set\n",
    "    - `y = 0` if the image is of the digit `0`, `y = 4` if the image is of the digit `4` and so on.\n",
    "\n",
    "$^1$<sub> This is a subset of the MNIST handwritten digit dataset (http://yann.lecun.com/exdb/mnist/)</sub>"
   ]
  },
  {
   "cell_type": "code",
   "execution_count": 8,
   "metadata": {
    "deletable": false,
    "editable": false
   },
   "outputs": [],
   "source": [
    "# load dataset\n",
    "X, y = load_data()"
   ]
  },
  {
   "cell_type": "markdown",
   "metadata": {},
   "source": [
    "#### 4.2.1 View the variables\n",
    "Let's get more familiar with your dataset.  \n",
    "- A good place to start is to print out each variable and see what it contains.\n",
    "\n",
    "The code below prints the first element in the variables `X` and `y`.  "
   ]
  },
  {
   "cell_type": "code",
   "execution_count": 9,
   "metadata": {
    "deletable": false,
    "editable": false,
    "scrolled": true
   },
   "outputs": [
    {
     "name": "stdout",
     "output_type": "stream",
     "text": [
      "The first element of X is:  [ 0.00e+00  0.00e+00  0.00e+00  0.00e+00  0.00e+00  0.00e+00  0.00e+00\n",
      "  0.00e+00  0.00e+00  0.00e+00  0.00e+00  0.00e+00  0.00e+00  0.00e+00\n",
      "  0.00e+00  0.00e+00  0.00e+00  0.00e+00  0.00e+00  0.00e+00  0.00e+00\n",
      "  0.00e+00  0.00e+00  0.00e+00  0.00e+00  0.00e+00  0.00e+00  0.00e+00\n",
      "  0.00e+00  0.00e+00  0.00e+00  0.00e+00  0.00e+00  0.00e+00  0.00e+00\n",
      "  0.00e+00  0.00e+00  0.00e+00  0.00e+00  0.00e+00  0.00e+00  0.00e+00\n",
      "  0.00e+00  0.00e+00  0.00e+00  0.00e+00  0.00e+00  0.00e+00  0.00e+00\n",
      "  0.00e+00  0.00e+00  0.00e+00  0.00e+00  0.00e+00  0.00e+00  0.00e+00\n",
      "  0.00e+00  0.00e+00  0.00e+00  0.00e+00  0.00e+00  0.00e+00  0.00e+00\n",
      "  0.00e+00  0.00e+00  0.00e+00  0.00e+00  8.56e-06  1.94e-06 -7.37e-04\n",
      " -8.13e-03 -1.86e-02 -1.87e-02 -1.88e-02 -1.91e-02 -1.64e-02 -3.78e-03\n",
      "  3.30e-04  1.28e-05  0.00e+00  0.00e+00  0.00e+00  0.00e+00  0.00e+00\n",
      "  0.00e+00  0.00e+00  1.16e-04  1.20e-04 -1.40e-02 -2.85e-02  8.04e-02\n",
      "  2.67e-01  2.74e-01  2.79e-01  2.74e-01  2.25e-01  2.78e-02 -7.06e-03\n",
      "  2.35e-04  0.00e+00  0.00e+00  0.00e+00  0.00e+00  0.00e+00  0.00e+00\n",
      "  1.28e-17 -3.26e-04 -1.39e-02  8.16e-02  3.83e-01  8.58e-01  1.00e+00\n",
      "  9.70e-01  9.31e-01  1.00e+00  9.64e-01  4.49e-01 -5.60e-03 -3.78e-03\n",
      "  0.00e+00  0.00e+00  0.00e+00  0.00e+00  5.11e-06  4.36e-04 -3.96e-03\n",
      " -2.69e-02  1.01e-01  6.42e-01  1.03e+00  8.51e-01  5.43e-01  3.43e-01\n",
      "  2.69e-01  6.68e-01  1.01e+00  9.04e-01  1.04e-01 -1.66e-02  0.00e+00\n",
      "  0.00e+00  0.00e+00  0.00e+00  2.60e-05 -3.11e-03  7.52e-03  1.78e-01\n",
      "  7.93e-01  9.66e-01  4.63e-01  6.92e-02 -3.64e-03 -4.12e-02 -5.02e-02\n",
      "  1.56e-01  9.02e-01  1.05e+00  1.51e-01 -2.16e-02  0.00e+00  0.00e+00\n",
      "  0.00e+00  5.87e-05 -6.41e-04 -3.23e-02  2.78e-01  9.37e-01  1.04e+00\n",
      "  5.98e-01 -3.59e-03 -2.17e-02 -4.81e-03  6.17e-05 -1.24e-02  1.55e-01\n",
      "  9.15e-01  9.20e-01  1.09e-01 -1.71e-02  0.00e+00  0.00e+00  1.56e-04\n",
      " -4.28e-04 -2.51e-02  1.31e-01  7.82e-01  1.03e+00  7.57e-01  2.85e-01\n",
      "  4.87e-03 -3.19e-03  0.00e+00  8.36e-04 -3.71e-02  4.53e-01  1.03e+00\n",
      "  5.39e-01 -2.44e-03 -4.80e-03  0.00e+00  0.00e+00 -7.04e-04 -1.27e-02\n",
      "  1.62e-01  7.80e-01  1.04e+00  8.04e-01  1.61e-01 -1.38e-02  2.15e-03\n",
      " -2.13e-04  2.04e-04 -6.86e-03  4.32e-04  7.21e-01  8.48e-01  1.51e-01\n",
      " -2.28e-02  1.99e-04  0.00e+00  0.00e+00 -9.40e-03  3.75e-02  6.94e-01\n",
      "  1.03e+00  1.02e+00  8.80e-01  3.92e-01 -1.74e-02 -1.20e-04  5.55e-05\n",
      " -2.24e-03 -2.76e-02  3.69e-01  9.36e-01  4.59e-01 -4.25e-02  1.17e-03\n",
      "  1.89e-05  0.00e+00  0.00e+00 -1.94e-02  1.30e-01  9.80e-01  9.42e-01\n",
      "  7.75e-01  8.74e-01  2.13e-01 -1.72e-02  0.00e+00  1.10e-03 -2.62e-02\n",
      "  1.23e-01  8.31e-01  7.27e-01  5.24e-02 -6.19e-03  0.00e+00  0.00e+00\n",
      "  0.00e+00  0.00e+00 -9.37e-03  3.68e-02  6.99e-01  1.00e+00  6.06e-01\n",
      "  3.27e-01 -3.22e-02 -4.83e-02 -4.34e-02 -5.75e-02  9.56e-02  7.27e-01\n",
      "  6.95e-01  1.47e-01 -1.20e-02 -3.03e-04  0.00e+00  0.00e+00  0.00e+00\n",
      "  0.00e+00 -6.77e-04 -6.51e-03  1.17e-01  4.22e-01  9.93e-01  8.82e-01\n",
      "  7.46e-01  7.24e-01  7.23e-01  7.20e-01  8.45e-01  8.32e-01  6.89e-02\n",
      " -2.78e-02  3.59e-04  7.15e-05  0.00e+00  0.00e+00  0.00e+00  0.00e+00\n",
      "  1.53e-04  3.17e-04 -2.29e-02 -4.14e-03  3.87e-01  5.05e-01  7.75e-01\n",
      "  9.90e-01  1.01e+00  1.01e+00  7.38e-01  2.15e-01 -2.70e-02  1.33e-03\n",
      "  0.00e+00  0.00e+00  0.00e+00  0.00e+00  0.00e+00  0.00e+00  0.00e+00\n",
      "  0.00e+00  2.36e-04 -2.26e-03 -2.52e-02 -3.74e-02  6.62e-02  2.91e-01\n",
      "  3.23e-01  3.06e-01  8.76e-02 -2.51e-02  2.37e-04  0.00e+00  0.00e+00\n",
      "  0.00e+00  0.00e+00  0.00e+00  0.00e+00  0.00e+00  0.00e+00  0.00e+00\n",
      "  0.00e+00  0.00e+00  6.21e-18  6.73e-04 -1.13e-02 -3.55e-02 -3.88e-02\n",
      " -3.71e-02 -1.34e-02  9.91e-04  4.89e-05  0.00e+00  0.00e+00  0.00e+00\n",
      "  0.00e+00  0.00e+00  0.00e+00  0.00e+00  0.00e+00  0.00e+00  0.00e+00\n",
      "  0.00e+00  0.00e+00  0.00e+00  0.00e+00  0.00e+00  0.00e+00  0.00e+00\n",
      "  0.00e+00  0.00e+00  0.00e+00  0.00e+00  0.00e+00  0.00e+00  0.00e+00\n",
      "  0.00e+00  0.00e+00  0.00e+00  0.00e+00  0.00e+00  0.00e+00  0.00e+00\n",
      "  0.00e+00  0.00e+00  0.00e+00  0.00e+00  0.00e+00  0.00e+00  0.00e+00\n",
      "  0.00e+00  0.00e+00  0.00e+00  0.00e+00  0.00e+00  0.00e+00  0.00e+00\n",
      "  0.00e+00]\n"
     ]
    }
   ],
   "source": [
    "print ('The first element of X is: ', X[0])"
   ]
  },
  {
   "cell_type": "code",
   "execution_count": 10,
   "metadata": {
    "deletable": false,
    "editable": false
   },
   "outputs": [
    {
     "name": "stdout",
     "output_type": "stream",
     "text": [
      "The first element of y is:  0\n",
      "The last element of y is:  9\n"
     ]
    }
   ],
   "source": [
    "print ('The first element of y is: ', y[0,0])\n",
    "print ('The last element of y is: ', y[-1,0])"
   ]
  },
  {
   "cell_type": "markdown",
   "metadata": {},
   "source": [
    "#### 4.2.2 Check the dimensions of your variables\n",
    "\n",
    "Another way to get familiar with your data is to view its dimensions. Please print the shape of `X` and `y` and see how many training examples you have in your dataset."
   ]
  },
  {
   "cell_type": "code",
   "execution_count": 11,
   "metadata": {
    "deletable": false,
    "editable": false
   },
   "outputs": [
    {
     "name": "stdout",
     "output_type": "stream",
     "text": [
      "The shape of X is: (5000, 400)\n",
      "The shape of y is: (5000, 1)\n"
     ]
    }
   ],
   "source": [
    "print ('The shape of X is: ' + str(X.shape))\n",
    "print ('The shape of y is: ' + str(y.shape))"
   ]
  },
  {
   "cell_type": "markdown",
   "metadata": {},
   "source": [
    "#### 4.2.3 Visualizing the Data\n",
    "\n",
    "You will begin by visualizing a subset of the training set. \n",
    "- In the cell below, the code randomly selects 64 rows from `X`, maps each row back to a 20 pixel by 20 pixel grayscale image and displays the images together. \n",
    "- The label for each image is displayed above the image "
   ]
  },
  {
   "cell_type": "code",
   "execution_count": 12,
   "metadata": {
    "deletable": false,
    "editable": false
   },
   "outputs": [
    {
     "data": {
      "application/vnd.jupyter.widget-view+json": {
       "model_id": "697422442c6d4fe080be4141920d8a6f",
       "version_major": 2,
       "version_minor": 0
      },
      "text/plain": [
       "Canvas(toolbar=Toolbar(toolitems=[('Home', 'Reset original view', 'home', 'home'), ('Back', 'Back to previous …"
      ]
     },
     "metadata": {},
     "output_type": "display_data"
    }
   ],
   "source": [
    "import warnings\n",
    "warnings.simplefilter(action='ignore', category=FutureWarning)\n",
    "# You do not need to modify anything in this cell\n",
    "\n",
    "m, n = X.shape\n",
    "\n",
    "fig, axes = plt.subplots(8,8, figsize=(5,5))\n",
    "fig.tight_layout(pad=0.13,rect=[0, 0.03, 1, 0.91]) #[left, bottom, right, top]\n",
    "\n",
    "#fig.tight_layout(pad=0.5)\n",
    "widgvis(fig)\n",
    "for i,ax in enumerate(axes.flat):\n",
    "    # Select random indices\n",
    "    random_index = np.random.randint(m)\n",
    "    \n",
    "    # Select rows corresponding to the random indices and\n",
    "    # reshape the image\n",
    "    X_random_reshaped = X[random_index].reshape((20,20)).T\n",
    "    \n",
    "    # Display the image\n",
    "    ax.imshow(X_random_reshaped, cmap='gray')\n",
    "    \n",
    "    # Display the label above the image\n",
    "    ax.set_title(y[random_index,0])\n",
    "    ax.set_axis_off()\n",
    "    fig.suptitle(\"Label, image\", fontsize=14)"
   ]
  },
  {
   "cell_type": "markdown",
   "metadata": {},
   "source": [
    "<a name=\"4.3\"></a>\n",
    "### 4.3 Model representation\n",
    "\n",
    "The neural network you will use in this assignment is shown in the figure below. \n",
    "- This has two dense layers with ReLU activations followed by an output layer with a linear activation. \n",
    "    - Recall that our inputs are pixel values of digit images.\n",
    "    - Since the images are of size $20\\times20$, this gives us $400$ inputs  \n",
    "    \n",
    "<img src=\"images/C2_W2_Assigment_NN.png\" width=\"600\" height=\"450\">"
   ]
  },
  {
   "cell_type": "markdown",
   "metadata": {},
   "source": [
    "- The parameters have dimensions that are sized for a neural network with $25$ units in layer 1, $15$ units in layer 2 and $10$ output units in layer 3, one for each digit.\n",
    "\n",
    "    - Recall that the dimensions of these parameters is determined as follows:\n",
    "        - If network has $s_{in}$ units in a layer and $s_{out}$ units in the next layer, then \n",
    "            - $W$ will be of dimension $s_{in} \\times s_{out}$.\n",
    "            - $b$ will be a vector with $s_{out}$ elements\n",
    "  \n",
    "    - Therefore, the shapes of `W`, and `b`,  are \n",
    "        - layer1: The shape of `W1` is (400, 25) and the shape of `b1` is (25,)\n",
    "        - layer2: The shape of `W2` is (25, 15) and the shape of `b2` is: (15,)\n",
    "        - layer3: The shape of `W3` is (15, 10) and the shape of `b3` is: (10,)\n",
    ">**Note:** The bias vector `b` could be represented as a 1-D (n,) or 2-D (n,1) array. Tensorflow utilizes a 1-D representation and this lab will maintain that convention: \n",
    "               "
   ]
  },
  {
   "cell_type": "markdown",
   "metadata": {},
   "source": [
    "<a name=\"4.4\"></a>\n",
    "### 4.4 Tensorflow Model Implementation\n"
   ]
  },
  {
   "cell_type": "markdown",
   "metadata": {},
   "source": [
    "Tensorflow models are built layer by layer. A layer's input dimensions ($s_{in}$ above) are calculated for you. You specify a layer's *output dimensions* and this determines the next layer's input dimension. The input dimension of the first layer is derived from the size of the input data specified in the `model.fit` statement below. \n",
    ">**Note:** It is also possible to add an input layer that specifies the input dimension of the first layer. For example:  \n",
    "`tf.keras.Input(shape=(400,)),    #specify input shape`  \n",
    "We will include that here to illuminate some model sizing."
   ]
  },
  {
   "cell_type": "markdown",
   "metadata": {},
   "source": [
    "<a name=\"4.5\"></a>\n",
    "### 4.5 Softmax placement\n",
    "As described in the lecture and the optional softmax lab, numerical stability is improved if the softmax is grouped with the loss function rather than the output layer during training. This has implications when *building* the model and *using* the model.  \n",
    "Building:  \n",
    "* The final Dense layer should use a 'linear' activation. This is effectively no activation. \n",
    "* The `model.compile` statement will indicate this by including `from_logits=True`.\n",
    "`loss=tf.keras.losses.SparseCategoricalCrossentropy(from_logits=True) `  \n",
    "* This does not impact the form of the target. In the case of SparseCategorialCrossentropy, the target is the expected digit, 0-9.\n",
    "\n",
    "Using the model:\n",
    "* The outputs are not probabilities. If output probabilities are desired, apply a softmax function."
   ]
  },
  {
   "cell_type": "markdown",
   "metadata": {},
   "source": [
    "<a name=\"ex02\"></a>\n",
    "### Exercise 2\n",
    "\n",
    "Below, using Keras [Sequential model](https://keras.io/guides/sequential_model/) and [Dense Layer](https://keras.io/api/layers/core_layers/dense/) with a ReLU activation to construct the three layer network described above."
   ]
  },
  {
   "cell_type": "code",
   "execution_count": 19,
   "metadata": {
    "deletable": false
   },
   "outputs": [],
   "source": [
    "# UNQ_C2\n",
    "# GRADED CELL: Sequential model\n",
    "tf.random.set_seed(1234) # for consistent results\n",
    "model = Sequential(\n",
    "    [               \n",
    "        ### START CODE HERE ### \n",
    "        \n",
    "        ### END CODE HERE ### \n",
    "    ], name = \"my_model\" \n",
    ")"
   ]
  },
  {
   "cell_type": "code",
   "execution_count": 20,
   "metadata": {
    "deletable": false,
    "editable": false
   },
   "outputs": [
    {
     "name": "stdout",
     "output_type": "stream",
     "text": [
      "Model: \"my_model\"\n",
      "_________________________________________________________________\n",
      " Layer (type)                Output Shape              Param #   \n",
      "=================================================================\n",
      " dense_6 (Dense)             (None, 25)                10025     \n",
      "                                                                 \n",
      " dense_7 (Dense)             (None, 15)                390       \n",
      "                                                                 \n",
      " dense_8 (Dense)             (None, 10)                160       \n",
      "                                                                 \n",
      "=================================================================\n",
      "Total params: 10,575\n",
      "Trainable params: 10,575\n",
      "Non-trainable params: 0\n",
      "_________________________________________________________________\n"
     ]
    }
   ],
   "source": [
    "model.summary()"
   ]
  },
  {
   "cell_type": "markdown",
   "metadata": {},
   "source": [
    "<details>\n",
    "  <summary><font size=\"3\" color=\"darkgreen\"><b>Expected Output (Click to expand)</b></font></summary>\n",
    "The `model.summary()` function displays a useful summary of the model. Note, the names of the layers may vary as they are auto-generated unless the name is specified.    \n",
    "    \n",
    "```\n",
    "Model: \"my_model\"\n",
    "_________________________________________________________________\n",
    "Layer (type)                 Output Shape              Param #   \n",
    "=================================================================\n",
    "L1 (Dense)                   (None, 25)                10025     \n",
    "_________________________________________________________________\n",
    "L2 (Dense)                   (None, 15)                390       \n",
    "_________________________________________________________________\n",
    "L3 (Dense)                   (None, 10)                160       \n",
    "=================================================================\n",
    "Total params: 10,575\n",
    "Trainable params: 10,575\n",
    "Non-trainable params: 0\n",
    "_________________________________________________________________\n",
    "```"
   ]
  },
  {
   "cell_type": "markdown",
   "metadata": {},
   "source": [
    "<details>\n",
    "  <summary><font size=\"3\" color=\"darkgreen\"><b>Click for hints</b></font></summary>\n",
    "    \n",
    "```python\n",
    "tf.random.set_seed(1234)\n",
    "model = Sequential(\n",
    "    [               \n",
    "        ### START CODE HERE ### \n",
    "        tf.keras.Input(shape=(400,)),     # @REPLACE \n",
    "        Dense(25, activation='relu', name = \"L1\"), # @REPLACE \n",
    "        Dense(15, activation='relu',  name = \"L2\"), # @REPLACE  \n",
    "        Dense(10, activation='linear', name = \"L3\"),  # @REPLACE \n",
    "        ### END CODE HERE ### \n",
    "    ], name = \"my_model\" \n",
    ")\n",
    "``` "
   ]
  },
  {
   "cell_type": "code",
   "execution_count": 21,
   "metadata": {
    "deletable": false,
    "editable": false
   },
   "outputs": [
    {
     "name": "stdout",
     "output_type": "stream",
     "text": [
      "\u001B[92mAll tests passed!\n"
     ]
    }
   ],
   "source": [
    "# BEGIN UNIT TEST     \n",
    "test_model(model, 10, 400)\n",
    "# END UNIT TEST     "
   ]
  },
  {
   "cell_type": "markdown",
   "metadata": {},
   "source": [
    "The parameter counts shown in the summary correspond to the number of elements in the weight and bias arrays as shown below."
   ]
  },
  {
   "cell_type": "markdown",
   "metadata": {},
   "source": [
    "Let's further examine the weights to verify that tensorflow produced the same dimensions as we calculated above."
   ]
  },
  {
   "cell_type": "code",
   "execution_count": 22,
   "metadata": {
    "deletable": false,
    "editable": false
   },
   "outputs": [],
   "source": [
    "[layer1, layer2, layer3] = model.layers"
   ]
  },
  {
   "cell_type": "code",
   "execution_count": 23,
   "metadata": {
    "deletable": false,
    "editable": false
   },
   "outputs": [
    {
     "name": "stdout",
     "output_type": "stream",
     "text": [
      "W1 shape = (400, 25), b1 shape = (25,)\n",
      "W2 shape = (25, 15), b2 shape = (15,)\n",
      "W3 shape = (15, 10), b3 shape = (10,)\n"
     ]
    }
   ],
   "source": [
    "#### Examine Weights shapes\n",
    "W1,b1 = layer1.get_weights()\n",
    "W2,b2 = layer2.get_weights()\n",
    "W3,b3 = layer3.get_weights()\n",
    "print(f\"W1 shape = {W1.shape}, b1 shape = {b1.shape}\")\n",
    "print(f\"W2 shape = {W2.shape}, b2 shape = {b2.shape}\")\n",
    "print(f\"W3 shape = {W3.shape}, b3 shape = {b3.shape}\")"
   ]
  },
  {
   "cell_type": "markdown",
   "metadata": {},
   "source": [
    "**Expected Output**\n",
    "```\n",
    "W1 shape = (400, 25), b1 shape = (25,)  \n",
    "W2 shape = (25, 15), b2 shape = (15,)  \n",
    "W3 shape = (15, 10), b3 shape = (10,)\n",
    "```"
   ]
  },
  {
   "cell_type": "markdown",
   "metadata": {},
   "source": [
    "The following code:\n",
    "* defines a loss function, `SparseCategoricalCrossentropy` and indicates the softmax should be included with the  loss calculation by adding `from_logits=True`)\n",
    "* defines an optimizer. A popular choice is Adaptive Moment (Adam) which was described in lecture."
   ]
  },
  {
   "cell_type": "code",
   "execution_count": 24,
   "metadata": {
    "deletable": false,
    "editable": false,
    "scrolled": true
   },
   "outputs": [
    {
     "name": "stdout",
     "output_type": "stream",
     "text": [
      "Epoch 1/40\n",
      "157/157 [==============================] - 1s 2ms/step - loss: 1.7094\n",
      "Epoch 2/40\n",
      "157/157 [==============================] - 0s 2ms/step - loss: 0.7480\n",
      "Epoch 3/40\n",
      "157/157 [==============================] - 0s 2ms/step - loss: 0.4428\n",
      "Epoch 4/40\n",
      "157/157 [==============================] - 0s 2ms/step - loss: 0.3463\n",
      "Epoch 5/40\n",
      "157/157 [==============================] - 0s 2ms/step - loss: 0.2977\n",
      "Epoch 6/40\n",
      "157/157 [==============================] - 0s 2ms/step - loss: 0.2630\n",
      "Epoch 7/40\n",
      "157/157 [==============================] - 0s 2ms/step - loss: 0.2361\n",
      "Epoch 8/40\n",
      "157/157 [==============================] - 0s 2ms/step - loss: 0.2131\n",
      "Epoch 9/40\n",
      "157/157 [==============================] - 0s 2ms/step - loss: 0.2004\n",
      "Epoch 10/40\n",
      "157/157 [==============================] - 0s 2ms/step - loss: 0.1805\n",
      "Epoch 11/40\n",
      "157/157 [==============================] - 0s 2ms/step - loss: 0.1692\n",
      "Epoch 12/40\n",
      "157/157 [==============================] - 0s 2ms/step - loss: 0.1580\n",
      "Epoch 13/40\n",
      "157/157 [==============================] - 0s 2ms/step - loss: 0.1507\n",
      "Epoch 14/40\n",
      "157/157 [==============================] - 0s 2ms/step - loss: 0.1396\n",
      "Epoch 15/40\n",
      "157/157 [==============================] - 0s 2ms/step - loss: 0.1289\n",
      "Epoch 16/40\n",
      "157/157 [==============================] - 0s 2ms/step - loss: 0.1255\n",
      "Epoch 17/40\n",
      "157/157 [==============================] - 0s 2ms/step - loss: 0.1154\n",
      "Epoch 18/40\n",
      "157/157 [==============================] - 0s 2ms/step - loss: 0.1102\n",
      "Epoch 19/40\n",
      "157/157 [==============================] - 0s 2ms/step - loss: 0.1016\n",
      "Epoch 20/40\n",
      "157/157 [==============================] - 0s 2ms/step - loss: 0.0970\n",
      "Epoch 21/40\n",
      "157/157 [==============================] - 0s 2ms/step - loss: 0.0926\n",
      "Epoch 22/40\n",
      "157/157 [==============================] - 0s 2ms/step - loss: 0.0891\n",
      "Epoch 23/40\n",
      "157/157 [==============================] - 0s 2ms/step - loss: 0.0828\n",
      "Epoch 24/40\n",
      "157/157 [==============================] - 0s 2ms/step - loss: 0.0785\n",
      "Epoch 25/40\n",
      "157/157 [==============================] - 0s 2ms/step - loss: 0.0755\n",
      "Epoch 26/40\n",
      "157/157 [==============================] - 0s 2ms/step - loss: 0.0713\n",
      "Epoch 27/40\n",
      "157/157 [==============================] - 0s 2ms/step - loss: 0.0701\n",
      "Epoch 28/40\n",
      "157/157 [==============================] - 0s 2ms/step - loss: 0.0617\n",
      "Epoch 29/40\n",
      "157/157 [==============================] - 0s 2ms/step - loss: 0.0578\n",
      "Epoch 30/40\n",
      "157/157 [==============================] - 0s 2ms/step - loss: 0.0550\n",
      "Epoch 31/40\n",
      "157/157 [==============================] - 0s 2ms/step - loss: 0.0511\n",
      "Epoch 32/40\n",
      "157/157 [==============================] - 0s 2ms/step - loss: 0.0499\n",
      "Epoch 33/40\n",
      "157/157 [==============================] - 0s 2ms/step - loss: 0.0462\n",
      "Epoch 34/40\n",
      "157/157 [==============================] - 0s 2ms/step - loss: 0.0437\n",
      "Epoch 35/40\n",
      "157/157 [==============================] - 0s 2ms/step - loss: 0.0422\n",
      "Epoch 36/40\n",
      "157/157 [==============================] - 0s 2ms/step - loss: 0.0396\n",
      "Epoch 37/40\n",
      "157/157 [==============================] - 0s 2ms/step - loss: 0.0366\n",
      "Epoch 38/40\n",
      "157/157 [==============================] - 0s 2ms/step - loss: 0.0344\n",
      "Epoch 39/40\n",
      "157/157 [==============================] - 0s 2ms/step - loss: 0.0312\n",
      "Epoch 40/40\n",
      "157/157 [==============================] - 0s 2ms/step - loss: 0.0294\n"
     ]
    }
   ],
   "source": [
    "model.compile(\n",
    "    loss=tf.keras.losses.SparseCategoricalCrossentropy(from_logits=True),\n",
    "    optimizer=tf.keras.optimizers.Adam(learning_rate=0.001),\n",
    ")\n",
    "\n",
    "history = model.fit(\n",
    "    X,y,\n",
    "    epochs=40\n",
    ")"
   ]
  },
  {
   "cell_type": "markdown",
   "metadata": {},
   "source": [
    "#### Epochs and batches\n",
    "In the `compile` statement above, the number of `epochs` was set to 100. This specifies that the entire data set should be applied during training 100 times.  During training, you see output describing the progress of training that looks like this:\n",
    "```\n",
    "Epoch 1/100\n",
    "157/157 [==============================] - 0s 1ms/step - loss: 2.2770\n",
    "```\n",
    "The first line, `Epoch 1/100`, describes which epoch the model is currently running. For efficiency, the training data set is broken into 'batches'. The default size of a batch in Tensorflow is 32. There are 5000 examples in our data set or roughly 157 batches. The notation on the 2nd line `157/157 [====` is describing which batch has been executed."
   ]
  },
  {
   "cell_type": "markdown",
   "metadata": {},
   "source": [
    "#### Loss  (cost)\n",
    "In course 1, we learned to track the progress of gradient descent by monitoring the cost. Ideally, the cost will decrease as the number of iterations of the algorithm increases. Tensorflow refers to the cost as `loss`. Above, you saw the loss displayed each epoch as `model.fit` was executing. The [.fit](https://www.tensorflow.org/api_docs/python/tf/keras/Model) method returns a variety of metrics including the loss. This is captured in the `history` variable above. This can be used to examine the loss in a plot as shown below."
   ]
  },
  {
   "cell_type": "code",
   "execution_count": 25,
   "metadata": {
    "deletable": false,
    "editable": false
   },
   "outputs": [
    {
     "data": {
      "application/vnd.jupyter.widget-view+json": {
       "model_id": "ddc73db00aa145c3b21971a4017bdf37",
       "version_major": 2,
       "version_minor": 0
      },
      "text/plain": [
       "Canvas(toolbar=Toolbar(toolitems=[('Home', 'Reset original view', 'home', 'home'), ('Back', 'Back to previous …"
      ]
     },
     "metadata": {},
     "output_type": "display_data"
    }
   ],
   "source": [
    "plot_loss_tf(history)"
   ]
  },
  {
   "cell_type": "markdown",
   "metadata": {},
   "source": [
    "#### Prediction \n",
    "To make a prediction, use Keras `predict`. Below, X[1015] contains an image of a two."
   ]
  },
  {
   "cell_type": "code",
   "execution_count": 26,
   "metadata": {
    "deletable": false,
    "editable": false
   },
   "outputs": [
    {
     "data": {
      "application/vnd.jupyter.widget-view+json": {
       "model_id": "8a25521f740e441c8fff5ec5f82dac85",
       "version_major": 2,
       "version_minor": 0
      },
      "text/plain": [
       "Canvas(toolbar=Toolbar(toolitems=[('Home', 'Reset original view', 'home', 'home'), ('Back', 'Back to previous …"
      ]
     },
     "metadata": {},
     "output_type": "display_data"
    },
    {
     "name": "stdout",
     "output_type": "stream",
     "text": [
      " predicting a Two: \n",
      "[[ -7.99  -2.23   0.77  -2.41 -11.66 -11.15  -9.53  -3.36  -4.42  -7.17]]\n",
      " Largest Prediction index: 2\n"
     ]
    }
   ],
   "source": [
    "image_of_two = X[1015]\n",
    "display_digit(image_of_two)\n",
    "\n",
    "prediction = model.predict(image_of_two.reshape(1,400))  # prediction\n",
    "\n",
    "print(f\" predicting a Two: \\n{prediction}\")\n",
    "print(f\" Largest Prediction index: {np.argmax(prediction)}\")"
   ]
  },
  {
   "cell_type": "markdown",
   "metadata": {},
   "source": [
    "The largest output is prediction[2], indicating the predicted digit is a '2'. If the problem only requires a selection, that is sufficient. Use NumPy [argmax](https://numpy.org/doc/stable/reference/generated/numpy.argmax.html) to select it. If the problem requires a probability, a softmax is required:"
   ]
  },
  {
   "cell_type": "code",
   "execution_count": 27,
   "metadata": {
    "deletable": false,
    "editable": false
   },
   "outputs": [
    {
     "name": "stdout",
     "output_type": "stream",
     "text": [
      " predicting a Two. Probability vector: \n",
      "[[1.42e-04 4.49e-02 8.98e-01 3.76e-02 3.61e-06 5.97e-06 3.03e-05 1.44e-02\n",
      "  5.03e-03 3.22e-04]]\n",
      "Total of predictions: 1.000\n"
     ]
    }
   ],
   "source": [
    "prediction_p = tf.nn.softmax(prediction)\n",
    "\n",
    "print(f\" predicting a Two. Probability vector: \\n{prediction_p}\")\n",
    "print(f\"Total of predictions: {np.sum(prediction_p):0.3f}\")"
   ]
  },
  {
   "cell_type": "markdown",
   "metadata": {},
   "source": [
    "To return an integer representing the predicted target, you want the index of the largest probability. This is accomplished with the Numpy [argmax](https://numpy.org/doc/stable/reference/generated/numpy.argmax.html) function."
   ]
  },
  {
   "cell_type": "code",
   "execution_count": 28,
   "metadata": {
    "deletable": false,
    "editable": false
   },
   "outputs": [
    {
     "name": "stdout",
     "output_type": "stream",
     "text": [
      "np.argmax(prediction_p): 2\n"
     ]
    }
   ],
   "source": [
    "yhat = np.argmax(prediction_p)\n",
    "\n",
    "print(f\"np.argmax(prediction_p): {yhat}\")"
   ]
  },
  {
   "cell_type": "markdown",
   "metadata": {},
   "source": [
    "Let's compare the predictions vs the labels for a random sample of 64 digits. This takes a moment to run."
   ]
  },
  {
   "cell_type": "code",
   "execution_count": 29,
   "metadata": {
    "deletable": false,
    "editable": false
   },
   "outputs": [
    {
     "data": {
      "application/vnd.jupyter.widget-view+json": {
       "model_id": "1cd661ca698e4aed90a301f51afa75df",
       "version_major": 2,
       "version_minor": 0
      },
      "text/plain": [
       "Canvas(toolbar=Toolbar(toolitems=[('Home', 'Reset original view', 'home', 'home'), ('Back', 'Back to previous …"
      ]
     },
     "metadata": {},
     "output_type": "display_data"
    }
   ],
   "source": [
    "import warnings\n",
    "warnings.simplefilter(action='ignore', category=FutureWarning)\n",
    "# You do not need to modify anything in this cell\n",
    "\n",
    "m, n = X.shape\n",
    "\n",
    "fig, axes = plt.subplots(8,8, figsize=(5,5))\n",
    "fig.tight_layout(pad=0.13,rect=[0, 0.03, 1, 0.91]) #[left, bottom, right, top]\n",
    "widgvis(fig)\n",
    "for i,ax in enumerate(axes.flat):\n",
    "    # Select random indices\n",
    "    random_index = np.random.randint(m)\n",
    "    \n",
    "    # Select rows corresponding to the random indices and\n",
    "    # reshape the image\n",
    "    X_random_reshaped = X[random_index].reshape((20,20)).T\n",
    "    \n",
    "    # Display the image\n",
    "    ax.imshow(X_random_reshaped, cmap='gray')\n",
    "    \n",
    "    # Predict using the Neural Network\n",
    "    prediction = model.predict(X[random_index].reshape(1,400))\n",
    "    prediction_p = tf.nn.softmax(prediction)\n",
    "    yhat = np.argmax(prediction_p)\n",
    "    \n",
    "    # Display the label above the image\n",
    "    ax.set_title(f\"{y[random_index,0]},{yhat}\",fontsize=10)\n",
    "    ax.set_axis_off()\n",
    "fig.suptitle(\"Label, yhat\", fontsize=14)\n",
    "plt.show()"
   ]
  },
  {
   "cell_type": "markdown",
   "metadata": {},
   "source": [
    "Let's look at some of the errors. \n",
    ">Note: increasing the number of training epochs can eliminate the errors on this data set."
   ]
  },
  {
   "cell_type": "code",
   "execution_count": 30,
   "metadata": {
    "deletable": false,
    "editable": false
   },
   "outputs": [
    {
     "data": {
      "application/vnd.jupyter.widget-view+json": {
       "model_id": "9687905809994b3bad72624501ed29d0",
       "version_major": 2,
       "version_minor": 0
      },
      "text/plain": [
       "Canvas(toolbar=Toolbar(toolitems=[('Home', 'Reset original view', 'home', 'home'), ('Back', 'Back to previous …"
      ]
     },
     "metadata": {},
     "output_type": "display_data"
    },
    {
     "name": "stdout",
     "output_type": "stream",
     "text": [
      "15 errors out of 5000 images\n"
     ]
    }
   ],
   "source": [
    "print( f\"{display_errors(model,X,y)} errors out of {len(X)} images\")"
   ]
  },
  {
   "cell_type": "markdown",
   "metadata": {},
   "source": [
    "### Congratulations!\n",
    "You have successfully built and utilized a neural network to do multiclass classification."
   ]
  },
  {
   "cell_type": "markdown",
   "metadata": {},
   "source": [
    "<details>\n",
    "  <summary><font size=\"2\" color=\"darkgreen\"><b>Please click here if you want to experiment with any of the non-graded code.</b></font></summary>\n",
    "    <p><i><b>Important Note: Please only do this when you've already passed the assignment to avoid problems with the autograder.</b></i>\n",
    "    <ol>\n",
    "        <li> On the notebook’s menu, click “View” > “Cell Toolbar” > “Edit Metadata”</li>\n",
    "        <li> Hit the “Edit Metadata” button next to the code cell which you want to lock/unlock</li>\n",
    "        <li> Set the attribute value for “editable” to:\n",
    "            <ul>\n",
    "                <li> “true” if you want to unlock it </li>\n",
    "                <li> “false” if you want to lock it </li>\n",
    "            </ul>\n",
    "        </li>\n",
    "        <li> On the notebook’s menu, click “View” > “Cell Toolbar” > “None” </li>\n",
    "    </ol>\n",
    "    <p> Here's a short demo of how to do the steps above: \n",
    "        <br>\n",
    "        <img src=\"https://drive.google.com/uc?export=view&id=14Xy_Mb17CZVgzVAgq7NCjMVBvSae3xO1\" align=\"center\" alt=\"unlock_cells.gif\">\n",
    "</details>"
   ]
  }
 ],
 "metadata": {
  "dl_toc_settings": {
   "rndtag": "89367"
  },
  "kernelspec": {
   "display_name": "Python 3",
   "language": "python",
   "name": "python3"
  },
  "language_info": {
   "codemirror_mode": {
    "name": "ipython",
    "version": 3
   },
   "file_extension": ".py",
   "mimetype": "text/x-python",
   "name": "python",
   "nbconvert_exporter": "python",
   "pygments_lexer": "ipython3",
   "version": "3.7.6"
  }
 },
 "nbformat": 4,
 "nbformat_minor": 4
}
